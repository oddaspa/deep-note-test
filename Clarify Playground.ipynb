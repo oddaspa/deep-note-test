{
 "cells": [
  {
   "cell_type": "markdown",
   "id": "056d3e00",
   "metadata": {},
   "source": [
    "# Clarify Playground\n",
    "\n",
    "## Getting started\n",
    "To connect with your Clarify account you need to add your credentials to the workspace. See the [docs](https://docs.clarify.us/docs/obtaining-an-access-token)."
   ]
  },
  {
   "cell_type": "code",
   "execution_count": null,
   "id": "45b4f519",
   "metadata": {},
   "outputs": [],
   "source": [
    "# import credentials\n",
    "import json\n",
    "f = open('clarify-credentials.json',)\n",
    "credentials = json.load(f)\n",
    "f.close()"
   ]
  },
  {
   "cell_type": "code",
   "execution_count": null,
   "id": "f0497284",
   "metadata": {},
   "outputs": [],
   "source": [
    "# get access token\n",
    "from oauthlib.oauth2 import BackendApplicationClient\n",
    "from requests_oauthlib import OAuth2Session\n",
    "\n",
    "session = OAuth2Session(client = BackendApplicationClient(client_id=credentials[\"credentials\"][\"clientId\"]))\n",
    "\n",
    "try:\n",
    "    session.fetch_token(\n",
    "        body=f'audience={credentials[\"apiUrl\"]}', \n",
    "        token_url=\"https://login.clarify.us/oauth/token\", \n",
    "        client_secret=credentials[\"credentials\"][\"clientSecret\"]\n",
    "    )\n",
    "except:\n",
    "    raise Exception('failed to get access token: {}'.format(format_exc()))\n",
    "\n",
    "token = session.access_token\n",
    "\n",
    "# NB! Does not produce valid token for data retrieval until Public API is finished."
   ]
  },
  {
   "cell_type": "code",
   "execution_count": null,
   "id": "7781b1cd",
   "metadata": {},
   "outputs": [],
   "source": [
    "# get data \n",
    "from jsonrpcclient.clients.http_client import HTTPClient\n",
    "from jsonrpcclient.requests import Request\n",
    "\n",
    "url_endpoint = \"https://clarifyapp.clarify.us/api/timeseries/rpc\" # api endpoint\n",
    "method = \"timeseries.Floats\" # rpc method call\n",
    "item_id = \"\" # id of item (found in item view)\n",
    "\n",
    "client = HTTPClient(url_endpoint)\n",
    "headers = {\n",
    "    \"content-type\": \"application/json\",\n",
    "    \"authorization\": \"Bearer \" + token\n",
    "}\n",
    "\n",
    "client.session.headers.update(headers)\n",
    "\n",
    "rpc_text = Request(\n",
    "    method,\n",
    "    query = {\n",
    "        \"id\": item_id\n",
    "    },\n",
    "    window = {\n",
    "        \"from\": \"2017-01-20T00:00:00Z\",\n",
    "        \"to\": \"2021-12-21T00:00:00Z\"\n",
    "    }\n",
    ")\n",
    "\n",
    "res = client.send(rpc_text)\n",
    "result = res.data.result"
   ]
  },
  {
   "cell_type": "code",
   "execution_count": null,
   "id": "3984b355",
   "metadata": {},
   "outputs": [],
   "source": [
    "import pandas as pd\n",
    "import numpy as np\n",
    "\n",
    "# reformat data\n",
    "data = []\n",
    "for section in result[\"sections\"]:\n",
    "    data += section\n",
    "\n",
    "ts = np.array(data)\n",
    "time, value = pd.to_datetime(ts[:,0]), pd.to_numeric(ts[:,1])\n",
    "series = pd.Series(value, index=time)\n",
    "print(series.head(5))\n",
    "series.plot();"
   ]
  }
 ],
 "metadata": {
  "kernelspec": {
   "display_name": "torch-venv",
   "language": "python",
   "name": "torch-venv"
  },
  "language_info": {
   "codemirror_mode": {
    "name": "ipython",
    "version": 3
   },
   "file_extension": ".py",
   "mimetype": "text/x-python",
   "name": "python",
   "nbconvert_exporter": "python",
   "pygments_lexer": "ipython3",
   "version": "3.9.6"
  }
 },
 "nbformat": 4,
 "nbformat_minor": 5
}
