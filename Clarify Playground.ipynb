{
 "cells": [
  {
   "cell_type": "code",
   "execution_count": null,
   "id": "d25fcae6",
   "metadata": {},
   "outputs": [],
   "source": [
    "import os\n",
    "\n",
    "token = os.environ[\"AUTHTOKEN\"] # your authentication token\n",
    "url_endpoint = os.environ[\"URL\"] # api endpoint\n",
    "method = os.environ[\"METHOD\"] # rpc method call\n",
    "item_id = os.environ[\"ITEMID\"] # id of item "
   ]
  },
  {
   "cell_type": "code",
   "execution_count": null,
   "id": "33781fdb",
   "metadata": {},
   "outputs": [],
   "source": [
    "from jsonrpcclient.clients.http_client import HTTPClient\n",
    "from jsonrpcclient.requests import Request\n",
    "\n",
    "client = HTTPClient(url_endpoint)\n",
    "headers = {\n",
    "    \"content-type\": \"application/json\",\n",
    "    \"authorization\": \"Bearer \" +  token\n",
    "}\n",
    "\n",
    "client.session.headers.update(headers)\n",
    "\n",
    "rpc_text = Request(\n",
    "    method,\n",
    "    query = { \"id\": item_id},\n",
    "    window = {\n",
    "        \"from\": \"2017-01-20T00:00:00Z\",\n",
    "        \"to\": \"2021-12-21T00:00:00Z\"\n",
    "    }\n",
    ")\n",
    "\n",
    "res = client.send(rpc_text)\n",
    "data = res.data.result[\"sections\"][0]"
   ]
  },
  {
   "cell_type": "code",
   "execution_count": null,
   "id": "2253dce2",
   "metadata": {},
   "outputs": [],
   "source": [
    "import numpy as np\n",
    "import pandas as pd\n",
    "\n",
    "ts = np.array(data)\n",
    "time, value = pd.to_datetime(ts[:,0]), pd.to_numeric(ts[:,1])\n",
    "series = pd.Series(value, index=time)\n",
    "series.plot()"
   ]
  },
  {
   "cell_type": "code",
   "execution_count": null,
   "id": "3984b355",
   "metadata": {},
   "outputs": [],
   "source": []
  }
 ],
 "metadata": {
  "kernelspec": {
   "display_name": "aquagraph",
   "language": "python",
   "name": "aqua_venv"
  },
  "language_info": {
   "codemirror_mode": {
    "name": "ipython",
    "version": 3
   },
   "file_extension": ".py",
   "mimetype": "text/x-python",
   "name": "python",
   "nbconvert_exporter": "python",
   "pygments_lexer": "ipython3",
   "version": "3.9.6"
  }
 },
 "nbformat": 4,
 "nbformat_minor": 5
}
